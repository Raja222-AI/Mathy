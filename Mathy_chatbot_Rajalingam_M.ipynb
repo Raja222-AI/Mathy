{
  "nbformat": 4,
  "nbformat_minor": 0,
  "metadata": {
    "colab": {
      "name": "Mathy chatbot-Rajalingam M.ipynb",
      "provenance": [],
      "collapsed_sections": []
    },
    "kernelspec": {
      "display_name": "Python 3",
      "name": "python3"
    }
  },
  "cells": [
    {
      "cell_type": "code",
      "metadata": {
        "id": "QC1VHy-g8VGi"
      },
      "source": [
        " #Mathy"
      ],
      "execution_count": null,
      "outputs": []
    },
    {
      "cell_type": "code",
      "metadata": {
        "colab": {
          "base_uri": "https://localhost:8080/"
        },
        "id": "dM8TVZlH8d87",
        "outputId": "1ab924bd-794c-4242-8fcd-a2039f718491"
      },
      "source": [
        "pip install nltk"
      ],
      "execution_count": null,
      "outputs": [
        {
          "output_type": "stream",
          "text": [
            "Requirement already satisfied: nltk in /usr/local/lib/python3.7/dist-packages (3.2.5)\n",
            "Requirement already satisfied: six in /usr/local/lib/python3.7/dist-packages (from nltk) (1.15.0)\n"
          ],
          "name": "stdout"
        }
      ]
    },
    {
      "cell_type": "code",
      "metadata": {
        "colab": {
          "base_uri": "https://localhost:8080/"
        },
        "id": "lrekUQnM8xyJ",
        "outputId": "9f82733c-47bd-423f-f0ee-62c6bbc3cbef"
      },
      "source": [
        "pip install newspaper3k"
      ],
      "execution_count": null,
      "outputs": [
        {
          "output_type": "stream",
          "text": [
            "Requirement already satisfied: newspaper3k in /usr/local/lib/python3.7/dist-packages (0.2.8)\n",
            "Requirement already satisfied: feedparser>=5.2.1 in /usr/local/lib/python3.7/dist-packages (from newspaper3k) (6.0.8)\n",
            "Requirement already satisfied: beautifulsoup4>=4.4.1 in /usr/local/lib/python3.7/dist-packages (from newspaper3k) (4.6.3)\n",
            "Requirement already satisfied: python-dateutil>=2.5.3 in /usr/local/lib/python3.7/dist-packages (from newspaper3k) (2.8.1)\n",
            "Requirement already satisfied: jieba3k>=0.35.1 in /usr/local/lib/python3.7/dist-packages (from newspaper3k) (0.35.1)\n",
            "Requirement already satisfied: nltk>=3.2.1 in /usr/local/lib/python3.7/dist-packages (from newspaper3k) (3.2.5)\n",
            "Requirement already satisfied: feedfinder2>=0.0.4 in /usr/local/lib/python3.7/dist-packages (from newspaper3k) (0.0.4)\n",
            "Requirement already satisfied: tldextract>=2.0.1 in /usr/local/lib/python3.7/dist-packages (from newspaper3k) (3.1.0)\n",
            "Requirement already satisfied: tinysegmenter==0.3 in /usr/local/lib/python3.7/dist-packages (from newspaper3k) (0.3)\n",
            "Requirement already satisfied: lxml>=3.6.0 in /usr/local/lib/python3.7/dist-packages (from newspaper3k) (4.2.6)\n",
            "Requirement already satisfied: Pillow>=3.3.0 in /usr/local/lib/python3.7/dist-packages (from newspaper3k) (7.1.2)\n",
            "Requirement already satisfied: PyYAML>=3.11 in /usr/local/lib/python3.7/dist-packages (from newspaper3k) (3.13)\n",
            "Requirement already satisfied: cssselect>=0.9.2 in /usr/local/lib/python3.7/dist-packages (from newspaper3k) (1.1.0)\n",
            "Requirement already satisfied: requests>=2.10.0 in /usr/local/lib/python3.7/dist-packages (from newspaper3k) (2.23.0)\n",
            "Requirement already satisfied: sgmllib3k in /usr/local/lib/python3.7/dist-packages (from feedparser>=5.2.1->newspaper3k) (1.0.0)\n",
            "Requirement already satisfied: six>=1.5 in /usr/local/lib/python3.7/dist-packages (from python-dateutil>=2.5.3->newspaper3k) (1.15.0)\n",
            "Requirement already satisfied: idna in /usr/local/lib/python3.7/dist-packages (from tldextract>=2.0.1->newspaper3k) (2.10)\n",
            "Requirement already satisfied: requests-file>=1.4 in /usr/local/lib/python3.7/dist-packages (from tldextract>=2.0.1->newspaper3k) (1.5.1)\n",
            "Requirement already satisfied: filelock>=3.0.8 in /usr/local/lib/python3.7/dist-packages (from tldextract>=2.0.1->newspaper3k) (3.0.12)\n",
            "Requirement already satisfied: certifi>=2017.4.17 in /usr/local/lib/python3.7/dist-packages (from requests>=2.10.0->newspaper3k) (2021.5.30)\n",
            "Requirement already satisfied: chardet<4,>=3.0.2 in /usr/local/lib/python3.7/dist-packages (from requests>=2.10.0->newspaper3k) (3.0.4)\n",
            "Requirement already satisfied: urllib3!=1.25.0,!=1.25.1,<1.26,>=1.21.1 in /usr/local/lib/python3.7/dist-packages (from requests>=2.10.0->newspaper3k) (1.24.3)\n"
          ],
          "name": "stdout"
        }
      ]
    },
    {
      "cell_type": "code",
      "metadata": {
        "colab": {
          "base_uri": "https://localhost:8080/"
        },
        "id": "WPOWWoG4fut6",
        "outputId": "b0ad9967-2cbe-466d-9aed-c3a4e5001d93"
      },
      "source": [
        "pip install escape"
      ],
      "execution_count": null,
      "outputs": [
        {
          "output_type": "stream",
          "text": [
            "Requirement already satisfied: escape in /usr/local/lib/python3.7/dist-packages (1.1)\n"
          ],
          "name": "stdout"
        }
      ]
    },
    {
      "cell_type": "code",
      "metadata": {
        "id": "GPHub40b86Ro"
      },
      "source": [
        "#libraries\n",
        "from newspaper import Article\n",
        "import nltk\n",
        "import random\n",
        "from random import choices\n",
        "import numpy as np\n",
        "import string \n",
        "from sklearn.feature_extraction.text import TfidfVectorizer\n",
        "from sklearn.metrics.pairwise import cosine_similarity\n",
        "from escape import Escape"
      ],
      "execution_count": null,
      "outputs": []
    },
    {
      "cell_type": "code",
      "metadata": {
        "colab": {
          "base_uri": "https://localhost:8080/"
        },
        "id": "xJZvMV0896dT",
        "outputId": "914d3191-9e7f-456c-e8d9-f83b6df68cd9"
      },
      "source": [
        "#punkt needed\n",
        "nltk.download('punkt', quiet=True)"
      ],
      "execution_count": null,
      "outputs": [
        {
          "output_type": "execute_result",
          "data": {
            "text/plain": [
              "True"
            ]
          },
          "metadata": {
            "tags": []
          },
          "execution_count": 24
        }
      ]
    },
    {
      "cell_type": "code",
      "metadata": {
        "id": "ta6Mm4mk-Tj7"
      },
      "source": [
        "#article\n",
        "article = Article('https://www.vedantu.com/maths/circles')\n",
        "article.download()\n",
        "article.parse()\n",
        "article.nlp()\n",
        "corpus=article.text"
      ],
      "execution_count": null,
      "outputs": []
    },
    {
      "cell_type": "code",
      "metadata": {
        "colab": {
          "base_uri": "https://localhost:8080/"
        },
        "id": "Ln5Wx9E_k_XS",
        "outputId": "32d5277e-c8b5-48b2-8cb3-42a7e4e3db1d"
      },
      "source": [
        "print(\"keywords in the article\")\n",
        "print(article.keywords)\n",
        "str1=''.join(article.keywords)"
      ],
      "execution_count": null,
      "outputs": [
        {
          "output_type": "stream",
          "text": [
            "keywords in the article\n",
            "['diameter', 'circle', 'circles', 'points', 'radius', 'center', 'point', 'uploaded', 'line', 'chord', 'called']\n"
          ],
          "name": "stdout"
        }
      ]
    },
    {
      "cell_type": "code",
      "metadata": {
        "colab": {
          "base_uri": "https://localhost:8080/"
        },
        "id": "cSWJEHvRtN0S",
        "outputId": "b3c56232-28e2-4893-b813-238af9a5dc2e"
      },
      "source": [
        "print(\"Article Summary\")\n",
        "print(article.summary)"
      ],
      "execution_count": null,
      "outputs": [
        {
          "output_type": "stream",
          "text": [
            "Article Summary\n",
            "In this article we will study what is circle, how to draw a circle, related terms, properties of circle, and example of circle.\n",
            "And the fixed distance from the center is called the radius of a circle.\n",
            "Terms Related to CircleSome important terms related to circles are explained below.\n",
            "[Image will be Uploaded Soon]Chord: a line segment joining any two points on the circle is called a chord.\n",
            "Diameter: A chord that passes through the center of the circle is called the diameter of a circle.\n"
          ],
          "name": "stdout"
        }
      ]
    },
    {
      "cell_type": "code",
      "metadata": {
        "colab": {
          "base_uri": "https://localhost:8080/"
        },
        "id": "bMLwpRxsOxKb",
        "outputId": "adac9258-40b2-44e4-fb91-5cf8c6691bd8"
      },
      "source": [
        "from nltk.tokenize import sent_tokenize, word_tokenize\n",
        "from nltk.corpus import stopwords\n",
        "nltk.download('stopwords')\n",
        " \n",
        "text = \"https://www.vedantu.com/maths/circles\"\n",
        "stopWords = set(stopwords.words('english'))\n",
        "words = word_tokenize(text)\n",
        "wordsFiltered = []\n",
        "\n",
        "for w in words:\n",
        "    if w not in stopWords:\n",
        "        wordsFiltered.append(w)\n",
        "\n",
        "print(wordsFiltered)\n",
        "str2=''.join(stopWords)\n",
        "print(str2)\n",
        "str3=''.join(wordsFiltered)\n",
        "print(str3)"
      ],
      "execution_count": null,
      "outputs": [
        {
          "output_type": "stream",
          "text": [
            "[nltk_data] Downloading package stopwords to /root/nltk_data...\n",
            "[nltk_data]   Package stopwords is already up-to-date!\n",
            "['https', ':', '//www.vedantu.com/maths/circles']\n",
            "thanherselfbecausehersupownaren'tmaweamthisafterwasnthereareshouldn'tabovehasn'twhyoveragainbothhedidnhadn'tyourselveshimselfthroughthemselveswhatneednfurthernotdidn'tshan'tthemwouldnathowourseachthendoesnhaven'tdowithdonsameherhadbeforeonlyyouweren'tbutyoursoffnoitmhavecouldn'tmyselfsheisnduringyagainstwhereiallsomeshould'vetheirswasbetweenaindoesn'tmustn'tastheybelowdownsothat'llunderhisyourselfwhenhavingitselfbemightn'twhohasverytwon'tthatbeenwereyou'vewillmeyou'dfromsourselvesadmightnmostfewodoingtohavenwasn'tcaninnoranjustformoredoesarenneedn'twonaboutmyshouldbytheseyou'lldidyourandorbeingoutanytoohasntheirshe'sifintoitsthoseisn'thadnit'swhilewouldn'tshanveothermustndon'tshouldntheouryou'reherewerenhimonisofoncewhomreuntilcouldnnowllwhichsuch\n",
            "https://www.vedantu.com/maths/circles\n"
          ],
          "name": "stdout"
        }
      ]
    },
    {
      "cell_type": "code",
      "metadata": {
        "colab": {
          "base_uri": "https://localhost:8080/"
        },
        "id": "b7zU_LOXgBLh",
        "outputId": "dde8b6ea-86b3-439c-c3f9-48ae0b9c8b40"
      },
      "source": [
        "print(len(stopWords))\n",
        "print(stopWords)"
      ],
      "execution_count": null,
      "outputs": [
        {
          "output_type": "stream",
          "text": [
            "179\n",
            "{'than', 'herself', 'because', 'hers', 'up', 'own', \"aren't\", 'ma', 'we', 'am', 'this', 'after', 'wasn', 'there', 'are', \"shouldn't\", 'above', \"hasn't\", 'why', 'over', 'again', 'both', 'he', 'didn', \"hadn't\", 'yourselves', 'himself', 'through', 'themselves', 'what', 'needn', 'further', 'not', \"didn't\", \"shan't\", 'them', 'wouldn', 'at', 'how', 'ours', 'each', 'then', 'doesn', \"haven't\", 'do', 'with', 'don', 'same', 'her', 'had', 'before', 'only', 'you', \"weren't\", 'but', 'yours', 'off', 'no', 'it', 'm', 'have', \"couldn't\", 'myself', 'she', 'isn', 'during', 'y', 'against', 'where', 'i', 'all', 'some', \"should've\", 'theirs', 'was', 'between', 'ain', \"doesn't\", \"mustn't\", 'as', 'they', 'below', 'down', 'so', \"that'll\", 'under', 'his', 'yourself', 'when', 'having', 'itself', 'be', \"mightn't\", 'who', 'has', 'very', 't', \"won't\", 'that', 'been', 'were', \"you've\", 'will', 'me', \"you'd\", 'from', 's', 'ourselves', 'a', 'd', 'mightn', 'most', 'few', 'o', 'doing', 'to', 'haven', \"wasn't\", 'can', 'in', 'nor', 'an', 'just', 'for', 'more', 'does', 'aren', \"needn't\", 'won', 'about', 'my', 'should', 'by', 'these', \"you'll\", 'did', 'your', 'and', 'or', 'being', 'out', 'any', 'too', 'hasn', 'their', \"she's\", 'if', 'into', 'its', 'those', \"isn't\", 'hadn', \"it's\", 'while', \"wouldn't\", 'shan', 've', 'other', 'mustn', \"don't\", 'shouldn', 'the', 'our', \"you're\", 'here', 'weren', 'him', 'on', 'is', 'of', 'once', 'whom', 're', 'until', 'couldn', 'now', 'll', 'which', 'such'}\n"
          ],
          "name": "stdout"
        }
      ]
    },
    {
      "cell_type": "code",
      "metadata": {
        "colab": {
          "base_uri": "https://localhost:8080/"
        },
        "id": "elGSR1ZkQYUa",
        "outputId": "e3790c00-6ff4-4cb9-c5bb-6905ac2105f2"
      },
      "source": [
        "#Print the artciles text\n",
        "print(corpus)"
      ],
      "execution_count": null,
      "outputs": [
        {
          "output_type": "stream",
          "text": [
            "What is Circle?\n",
            "\n",
            "In our daily routine, we come across many shapes that are round in shape, such as a wall clock, a wheel, sun moon, earth, coin, bangles, rings, etc. These all shapes are called a circle. A circle is a 2-dimensional shape defined as a collection of all the points in a plane that are equidistant from a given fixed point.\n",
            "\n",
            "The circle can also be imagined as a single line segment that is bent in a circular shape.\n",
            "\n",
            "In this article we will study what is circle, how to draw a circle, related terms, properties of circle, and example of circle.\n",
            "\n",
            "[Image will be Uploaded Soon]\n",
            "\n",
            "Circle Definition\n",
            "\n",
            "A circle is a collection of points in a plane that are equidistant from a given fixed point.\n",
            "\n",
            "The fixed point is called the center of the circle. And the fixed distance from the center is called the radius of a circle. From the figure O is the center of the circle, r is the radius of a circle and the blue lines indicate the circumference of the circle that is the perimeter of the circle.\n",
            "\n",
            "[Image will be Uploaded Soon]\n",
            "\n",
            "The circle formula is given as:\n",
            "\n",
            "(x - h)2 + (y - k)2 = r2\n",
            "\n",
            "where (x, y) are the coordinate points of the x-y axis.\n",
            "\n",
            "(h, k) is the coordinate of the center of a circle\n",
            "\n",
            "and r is the radius of a circle.\n",
            "\n",
            "How to Draw a Circle\n",
            "\n",
            "Let us see how to draw a circle.\n",
            "\n",
            "Steps Required to Draw a Perfect Circle.\n",
            "\n",
            "Take a plain paper\n",
            "\n",
            "Plot a point on it.\n",
            "\n",
            "Take a compass to measure some length on a ruler.\n",
            "\n",
            "Now place a sharp end of the compass on that point.\n",
            "\n",
            "Keeping the pointed leg on the point rotate another leg one complete round drawing a line.\n",
            "\n",
            "You will see a circle is drawn. And thus we get a collection of points on the line that is equidistant from a given fixed point and that is what defines a circle.\n",
            "\n",
            "Terms Related to Circle\n",
            "\n",
            "Some important terms related to circles are explained below. It will prove helpful to you in an example of a circle.\n",
            "\n",
            "Center: The fixed point of a circle is called the center of the circle,\n",
            "\n",
            "Radius: The fixed distance from the center to any point on the circle is called the radius of a circle.\n",
            "\n",
            "[Image will be Uploaded Soon]\n",
            "\n",
            "Chord: a line segment joining any two points on the circle is called a chord. In the figure below the green line indicates the chord.\n",
            "\n",
            "Diameter: A chord that passes through the center of the circle is called the diameter of a circle. The orange line indicates the diameter. Also diameter is the longest chord and can be expressed as 2r where r is the radius of a circle. There are infinite numbers of diameter in a circle.\n",
            "\n",
            "Secant: A chord that intersects the circle in two points is called a secant.In the figure below the blue line indicates a secant.\n",
            "\n",
            "Tangent: A line that touches a circle in one point is called tangent to the circle. And that point is called the point of contact. In the figure below the red line indicates the tangent.\n",
            "\n",
            "Arc : A piece of circle between two points is called an arc.\n",
            "\n",
            "[Image will be Uploaded Soon]\n",
            "\n",
            "Arc : A piece of circle between two points is called an arc. The red curve line is called the arc of a circle.\n",
            "\n",
            "Circumference: the length of the complete circle is called the circumference of a circle. It is also said to be the perimeter of the circle. The circumference of a circle = 2πr, where r is the radius of a circle.\n",
            "\n",
            "Segment: the region between the chord and the arc is called the segment of the circle. In the below figure the purple region indicates the segment. The segment containing the minor arc is called the minor segment and the segment containing the major arc is called the major segment.\n",
            "\n",
            "Sector: The region between the arc at the two radii is called the sector. The blue region indicates the sector.\n",
            "\n",
            "[Image will be Uploaded Soon]\n",
            "\n",
            "Interior and Exterior of a Circle: The circle divides the plane into three parts.\n",
            "\n",
            "Inside the circle is also called the interior of the circle. As B lies in the interior of the circle.\n",
            "\n",
            "Outside the circle is also called the exterior of the circle. As point A lies outside the circle.\n",
            "\n",
            "On the circle also called the circumference of the circle. As point C lies on the circle.\n",
            "\n",
            "[Image will be Uploaded Soon]\n",
            "\n",
            "Properties of Circle\n",
            "\n",
            "Some of the properties of circle are as follows:\n",
            "\n",
            "Circles with the same radii are said to be congruent.\n",
            "\n",
            "The longest chord of a circle is the diameter of a circle.\n",
            "\n",
            "The diameter of a circle is double the radius.\n",
            "\n",
            "The diameter divides the circle into two equal semicircles.\n",
            "\n",
            "The radius that is drawn perpendicular to the chord bisects the chord\n",
            "\n",
            "A circle can be inscribed in a square, triangle or a kite\n",
            "\n",
            "The chords that are equidistant from the center are equal in length\n",
            "\n",
            "The distance from the center of the circle to the longest chord (diameter) is zero i.e the longest chord is the diameter.\n",
            "\n",
            "The perpendicular distance from the center of the circle decreases when the length of the chord increases\n",
            "\n",
            "An isosceles triangle is formed when the radii joining the ends of a chord to the center of a circle\n",
            "\n",
            "Formulas For Circle\n",
            "\n",
            "Some of the important circle formulas that are widely used in solving example of circle are as follows\n",
            "\n",
            "Diameter d : The diameter of a circle is twice the radius of a circle.\n",
            "\n",
            "\n",
            "\n",
            "\n",
            "\n",
            "d = 2r\n",
            "\n",
            "\n",
            "\n",
            "\n",
            "\n",
            "Circumference: The outer boundary of the circle is the circumference of the circle. The formula for circumference is given by-\n",
            "\n",
            "\n",
            "\n",
            "\n",
            "\n",
            "C = πd = 2πr\n",
            "\n",
            "\n",
            "\n",
            "\n",
            "\n",
            "Area: Area of the circle is defined as the space occupied by the circle. The formula for area is given by\n",
            "\n",
            "\n",
            "\n",
            "\n",
            "\n",
            "A =πr2\n",
            "\n",
            "\n",
            "\n",
            "\n",
            "\n",
            "[Image will be Uploaded Soon]\n",
            "\n",
            "Solved Examples\n",
            "\n",
            "Example of Circle\n",
            "\n",
            "Example 1: Find the Area and the Circumference of a circle whose radius is 7 cm. (Take the value of π = 22/7)\n",
            "\n",
            "Solution-\n",
            "\n",
            "Given radius r = 7 cm.\n",
            "\n",
            "Area A = π r2\n",
            "\n",
            "= 22/7 × 7 x 7\n",
            "\n",
            "Area = 154cm2\n",
            "\n",
            "Circumference C = 2πr\n",
            "\n",
            "= 2 x 22/7 x 7\n",
            "\n",
            "Circumference = 44 cm\n",
            "\n",
            "Example 2 : If the diameter of a circle is 12cm. Then find its area.\n",
            "\n",
            "Solution:\n",
            "\n",
            "Given, diameter d = 12cm\n",
            "\n",
            "So, radius r = d /2\n",
            "\n",
            "= 12/2\n",
            "\n",
            "= 6cm\n",
            "\n",
            "Hence, area A = πr2\n",
            "\n",
            "A = π x (6)2\n",
            "\n",
            "= 3. 14 x 36\n",
            "\n",
            "A = 113.04 cm2\n",
            "\n",
            "Quiz Time\n",
            "\n",
            "1. A circular garden has a radius of 21 m. The owner wants to put a plastic edge around the garden, so wants to know what is the circumference of the garden?( π = 22/7)\n",
            "\n",
            "2. A circle with a radius of 21 cm is given. Find its area and circumference.\n",
            "\n",
            "[Image will be Uploaded Soon]\n",
            "\n",
            "\n",
            "\n",
            "\n"
          ],
          "name": "stdout"
        }
      ]
    },
    {
      "cell_type": "code",
      "metadata": {
        "id": "rOGXxOU3Qp-m"
      },
      "source": [
        "#Tokenization\n",
        "string = corpus\n",
        "fulltext_list=nltk.sent_tokenize(string)  #A list of fulltext"
      ],
      "execution_count": null,
      "outputs": []
    },
    {
      "cell_type": "code",
      "metadata": {
        "colab": {
          "base_uri": "https://localhost:8080/"
        },
        "id": "4xs_S5LSQ7Xv",
        "outputId": "575978a2-46ba-43a1-d6b2-d3099a519ebd"
      },
      "source": [
        "#Print the list of fulltext\n",
        "print(fulltext_list)"
      ],
      "execution_count": null,
      "outputs": [
        {
          "output_type": "stream",
          "text": [
            "['What is Circle?', 'In our daily routine, we come across many shapes that are round in shape, such as a wall clock, a wheel, sun moon, earth, coin, bangles, rings, etc.', 'These all shapes are called a circle.', 'A circle is a 2-dimensional shape defined as a collection of all the points in a plane that are equidistant from a given fixed point.', 'The circle can also be imagined as a single line segment that is bent in a circular shape.', 'In this article we will study what is circle, how to draw a circle, related terms, properties of circle, and example of circle.', '[Image will be Uploaded Soon]\\n\\nCircle Definition\\n\\nA circle is a collection of points in a plane that are equidistant from a given fixed point.', 'The fixed point is called the center of the circle.', 'And the fixed distance from the center is called the radius of a circle.', 'From the figure O is the center of the circle, r is the radius of a circle and the blue lines indicate the circumference of the circle that is the perimeter of the circle.', '[Image will be Uploaded Soon]\\n\\nThe circle formula is given as:\\n\\n(x - h)2 + (y - k)2 = r2\\n\\nwhere (x, y) are the coordinate points of the x-y axis.', '(h, k) is the coordinate of the center of a circle\\n\\nand r is the radius of a circle.', 'How to Draw a Circle\\n\\nLet us see how to draw a circle.', 'Steps Required to Draw a Perfect Circle.', 'Take a plain paper\\n\\nPlot a point on it.', 'Take a compass to measure some length on a ruler.', 'Now place a sharp end of the compass on that point.', 'Keeping the pointed leg on the point rotate another leg one complete round drawing a line.', 'You will see a circle is drawn.', 'And thus we get a collection of points on the line that is equidistant from a given fixed point and that is what defines a circle.', 'Terms Related to Circle\\n\\nSome important terms related to circles are explained below.', 'It will prove helpful to you in an example of a circle.', 'Center: The fixed point of a circle is called the center of the circle,\\n\\nRadius: The fixed distance from the center to any point on the circle is called the radius of a circle.', '[Image will be Uploaded Soon]\\n\\nChord: a line segment joining any two points on the circle is called a chord.', 'In the figure below the green line indicates the chord.', 'Diameter: A chord that passes through the center of the circle is called the diameter of a circle.', 'The orange line indicates the diameter.', 'Also diameter is the longest chord and can be expressed as 2r where r is the radius of a circle.', 'There are infinite numbers of diameter in a circle.', 'Secant: A chord that intersects the circle in two points is called a secant.In the figure below the blue line indicates a secant.', 'Tangent: A line that touches a circle in one point is called tangent to the circle.', 'And that point is called the point of contact.', 'In the figure below the red line indicates the tangent.', 'Arc : A piece of circle between two points is called an arc.', '[Image will be Uploaded Soon]\\n\\nArc : A piece of circle between two points is called an arc.', 'The red curve line is called the arc of a circle.', 'Circumference: the length of the complete circle is called the circumference of a circle.', 'It is also said to be the perimeter of the circle.', 'The circumference of a circle = 2πr, where r is the radius of a circle.', 'Segment: the region between the chord and the arc is called the segment of the circle.', 'In the below figure the purple region indicates the segment.', 'The segment containing the minor arc is called the minor segment and the segment containing the major arc is called the major segment.', 'Sector: The region between the arc at the two radii is called the sector.', 'The blue region indicates the sector.', '[Image will be Uploaded Soon]\\n\\nInterior and Exterior of a Circle: The circle divides the plane into three parts.', 'Inside the circle is also called the interior of the circle.', 'As B lies in the interior of the circle.', 'Outside the circle is also called the exterior of the circle.', 'As point A lies outside the circle.', 'On the circle also called the circumference of the circle.', 'As point C lies on the circle.', '[Image will be Uploaded Soon]\\n\\nProperties of Circle\\n\\nSome of the properties of circle are as follows:\\n\\nCircles with the same radii are said to be congruent.', 'The longest chord of a circle is the diameter of a circle.', 'The diameter of a circle is double the radius.', 'The diameter divides the circle into two equal semicircles.', 'The radius that is drawn perpendicular to the chord bisects the chord\\n\\nA circle can be inscribed in a square, triangle or a kite\\n\\nThe chords that are equidistant from the center are equal in length\\n\\nThe distance from the center of the circle to the longest chord (diameter) is zero i.e the longest chord is the diameter.', 'The perpendicular distance from the center of the circle decreases when the length of the chord increases\\n\\nAn isosceles triangle is formed when the radii joining the ends of a chord to the center of a circle\\n\\nFormulas For Circle\\n\\nSome of the important circle formulas that are widely used in solving example of circle are as follows\\n\\nDiameter d : The diameter of a circle is twice the radius of a circle.', 'd = 2r\\n\\n\\n\\n\\n\\nCircumference: The outer boundary of the circle is the circumference of the circle.', 'The formula for circumference is given by-\\n\\n\\n\\n\\n\\nC = πd = 2πr\\n\\n\\n\\n\\n\\nArea: Area of the circle is defined as the space occupied by the circle.', 'The formula for area is given by\\n\\n\\n\\n\\n\\nA =πr2\\n\\n\\n\\n\\n\\n[Image will be Uploaded Soon]\\n\\nSolved Examples\\n\\nExample of Circle\\n\\nExample 1: Find the Area and the Circumference of a circle whose radius is 7 cm.', '(Take the value of π = 22/7)\\n\\nSolution-\\n\\nGiven radius r = 7 cm.', 'Area A = π r2\\n\\n= 22/7 × 7 x 7\\n\\nArea = 154cm2\\n\\nCircumference C = 2πr\\n\\n= 2 x 22/7 x 7\\n\\nCircumference = 44 cm\\n\\nExample 2 : If the diameter of a circle is 12cm.', 'Then find its area.', 'Solution:\\n\\nGiven, diameter d = 12cm\\n\\nSo, radius r = d /2\\n\\n= 12/2\\n\\n= 6cm\\n\\nHence, area A = πr2\\n\\nA = π x (6)2\\n\\n= 3.', '14 x 36\\n\\nA = 113.04 cm2\\n\\nQuiz Time\\n\\n1.', 'A circular garden has a radius of 21 m. The owner wants to put a plastic edge around the garden, so wants to know what is the circumference of the garden?', '( π = 22/7)\\n\\n2.', 'A circle with a radius of 21 cm is given.', 'Find its area and circumference.', '[Image will be Uploaded Soon]']\n"
          ],
          "name": "stdout"
        }
      ]
    },
    {
      "cell_type": "code",
      "metadata": {
        "id": "rhf-5OpUROWx"
      },
      "source": [
        "# A function to return a random reply answer to a users reply\n",
        "def reply_answer(string):\n",
        "  string = string.lower()\n",
        "\n",
        "  #Bot's reply\n",
        "  bot_reply = ['howdy', 'hi', 'hey']\n",
        "  #User's reply\n",
        "  user_reply = ['hi', 'hey', 'hello']\n",
        "\n",
        "  for word in string.split():\n",
        "    if word.lower() in user_reply:\n",
        "      return random.choice(bot_reply)\n",
        "def gratitude_answer(string):\n",
        " string=string.lower()"
      ],
      "execution_count": null,
      "outputs": []
    },
    {
      "cell_type": "code",
      "metadata": {
        "id": "RnEgMuQUTKOt"
      },
      "source": [
        "def dictionary_sort(np_str):\n",
        "  length = len(np_str)\n",
        "  list_dictionary = list(range(0,length))\n",
        "\n",
        "  x = np_str\n",
        "  for a in range(length):\n",
        "    for b in range(length):\n",
        "      if x[list_dictionary[a]] > x[list_dictionary[b]]:\n",
        "        #Swap\n",
        "        temp = list_dictionary[a]\n",
        "        list_dictionary[a] = list_dictionary[b]\n",
        "        list_dictionary[b] = temp\n",
        "    \n",
        "  return list_dictionary\n",
        "        "
      ],
      "execution_count": null,
      "outputs": []
    },
    {
      "cell_type": "code",
      "metadata": {
        "id": "behZDE1QSG_R"
      },
      "source": [
        "#Create the Mathy_answer\n",
        "abc=(Escape(\"Sorry, You are asking a wrong question\").red())\n",
        "def Mathy_answer(user_input):\n",
        "  user_input = user_input.lower()\n",
        "  fulltext_list.append(user_input)\n",
        "  bot_answer = '-> '\n",
        "  tr=TfidfVectorizer().fit_transform(fulltext_list)\n",
        "  similarity_scores = cosine_similarity(tr[-1], tr)\n",
        "  similarity_scores_list = similarity_scores.ravel()\n",
        "  dictionary = dictionary_sort(similarity_scores_list)\n",
        "  dictionary = dictionary[1:]\n",
        "  answer_flag = 0\n",
        "\n",
        "  b = 0\n",
        "  for a in range(len(dictionary)):\n",
        "    if similarity_scores_list[dictionary[a]] > 0.0:\n",
        "      bot_answer = bot_answer+ ' '+fulltext_list[dictionary[a]]\n",
        "      answer_flag = 1\n",
        "      b = b+2\n",
        "    if b > 1:\n",
        "      break\n",
        "\n",
        "  if answer_flag==0:\n",
        "    bot_answer = bot_answer+ ' '+abc\n",
        "\n",
        "  fulltext_list.remove(user_input)\n",
        "\n",
        "  return bot_answer"
      ],
      "execution_count": null,
      "outputs": []
    },
    {
      "cell_type": "code",
      "metadata": {
        "colab": {
          "base_uri": "https://localhost:8080/"
        },
        "id": "R3GdE0UQm11A",
        "outputId": "ce14cd45-269a-4b95-e73e-458e4863511a"
      },
      "source": [
        "#Start the chat\n",
        "print(Escape('Mathy : I am maths chatbot for circle. SO you can ask, if you have any queries').cyan() )\n",
        "\n",
        "exit_tuple = ['exit','bye']\n",
        "advance=['summary']\n",
        "advance1=['keywords']\n",
        "advance2=['repeated words']\n",
        "advance3=['textbook']\n",
        "while(True):\n",
        "  user_input = input()\n",
        "  if user_input.lower() in exit_tuple:\n",
        "    print(Escape('Mathy : bye, have a nice day!').red())\n",
        "    break\n",
        "  elif user_input.lower() in advance:\n",
        "    print(Escape('Mathy : '+article.summary).blue())\n",
        "  elif user_input.lower() in advance1:\n",
        "    print('Mathy : '+str1)\n",
        "  elif user_input.lower() in advance2:\n",
        "    print('Mathy : '+str2)\n",
        "  elif user_input.lower() in advance3:\n",
        "    print(Escape('Mathy : '+str3).blue())\n",
        "  elif gratitude_answer(user_input) !=None:\n",
        "      print('Mathy : '+gratitude_answer(user_input))\n",
        "  elif reply_answer(user_input) != None:\n",
        "      print(Escape('Mathy : '+reply_answer(user_input)).magenta())\n",
        "  else:\n",
        "      print(Escape('Mathy : '+Mathy_answer(user_input)).blue())\n",
        "  print(Escape('Do you want to continue ? yes/no').bright_green())\n",
        "  user_answer = input(\"User-:your wish-\")\n",
        "\n",
        "  if user_answer.lower() == 'no' or user_answer.lower() in exit_tuple or user_answer.lower()!= 'yes' :\n",
        "                print(Escape('ok, bye').red())\n",
        "                flag=False\n",
        "                break\n",
        "  \n",
        "  "
      ],
      "execution_count": null,
      "outputs": [
        {
          "output_type": "stream",
          "text": [
            "\u001b[36mMathy : I am maths chatbot for circle. SO you can ask, if you have any queries\u001b[39m\n",
            "Hi\n",
            "\u001b[35mMathy : hi\u001b[39m\n",
            "\u001b[92mDo you want to continue ? yes/no\u001b[39m\n",
            "User-:your wish-yes\n",
            "Diameter\n",
            "\u001b[34mMathy : ->  Diameter: A chord that passes through the center of the circle is called the diameter of a circle.\u001b[39m\n",
            "\u001b[92mDo you want to continue ? yes/no\u001b[39m\n",
            "User-:your wish-yes\n",
            "sdhcbkjln\n",
            "\u001b[34mMathy : ->  \u001b[31mSorry, You are asking a wrong question\u001b[39m\u001b[39m\n",
            "\u001b[92mDo you want to continue ? yes/no\u001b[39m\n",
            "User-:your wish-yes\n",
            "summary\n",
            "\u001b[34mMathy : In this article we will study what is circle, how to draw a circle, related terms, properties of circle, and example of circle.\n",
            "And the fixed distance from the center is called the radius of a circle.\n",
            "Terms Related to CircleSome important terms related to circles are explained below.\n",
            "[Image will be Uploaded Soon]Chord: a line segment joining any two points on the circle is called a chord.\n",
            "Diameter: A chord that passes through the center of the circle is called the diameter of a circle.\u001b[39m\n",
            "\u001b[92mDo you want to continue ? yes/no\u001b[39m\n",
            "User-:your wish-no\n",
            "\u001b[31mok, bye\u001b[39m\n"
          ],
          "name": "stdout"
        }
      ]
    }
  ]
}